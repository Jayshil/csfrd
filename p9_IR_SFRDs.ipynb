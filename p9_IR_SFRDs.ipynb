{
 "metadata": {
  "language_info": {
   "codemirror_mode": {
    "name": "ipython",
    "version": 3
   },
   "file_extension": ".py",
   "mimetype": "text/x-python",
   "name": "python",
   "nbconvert_exporter": "python",
   "pygments_lexer": "ipython3",
   "version": "3.7.9"
  },
  "orig_nbformat": 2,
  "kernelspec": {
   "name": "python379jvsc74a57bd077308f10e778eec9a13a21206849a589a8c13410aaae2405e5051cd249c67e86",
   "display_name": "Python 3.7.9 64-bit ('base': conda)"
  }
 },
 "nbformat": 4,
 "nbformat_minor": 2,
 "cells": [
  {
   "source": [
    "# SFRD from IR based data\n",
    "\n",
    "Until now, we have been using UV observations to determine the luminosity functions and SFRDs from it. Now, let's turn our attention to the IR data. We currently have three references for such observations. We, for now, focus on these data. We try to propagate the errors correctly. Below, we show this computation. We also save the computed SFRDs from IR data for further uses."
   ],
   "cell_type": "markdown",
   "metadata": {}
  },
  {
   "cell_type": "code",
   "execution_count": 1,
   "metadata": {},
   "outputs": [],
   "source": [
    "import numpy as np\n",
    "import matplotlib.pyplot as plt\n",
    "import astropy.constants as con\n",
    "import os\n",
    "import utils as utl\n",
    "import irlf as irlf"
   ]
  },
  {
   "cell_type": "code",
   "execution_count": 2,
   "metadata": {},
   "outputs": [],
   "source": [
    "# Defining kappa and luminosity range\n",
    "\n",
    "kap_ir = 4.5*10**(-44)\n",
    "lums_ir1 = np.logspace(6, 15, 10000)*con.L_sun.value*1e7\n",
    "\n",
    "\n",
    "# Making a list of IR data\n",
    "p1 = os.getcwd() + '/data/New_IR/'\n",
    "p2 = os.getcwd() + '/Results/'\n",
    "\n",
    "list1 = os.listdir(p1)"
   ]
  },
  {
   "cell_type": "code",
   "execution_count": 7,
   "metadata": {},
   "outputs": [
    {
     "output_type": "stream",
     "name": "stderr",
     "text": [
      "  4%|▍         | 420/10000 [00:04<01:34, 101.83it/s]\n"
     ]
    },
    {
     "output_type": "error",
     "ename": "KeyboardInterrupt",
     "evalue": "",
     "traceback": [
      "\u001b[0;31m---------------------------------------------------------------------------\u001b[0m",
      "\u001b[0;31mKeyboardInterrupt\u001b[0m                         Traceback (most recent call last)",
      "\u001b[0;32m<ipython-input-7-462aa3f39543>\u001b[0m in \u001b[0;36m<module>\u001b[0;34m\u001b[0m\n\u001b[1;32m     11\u001b[0m     \u001b[0msfrd_ir12\u001b[0m\u001b[0;34m,\u001b[0m \u001b[0msfrd_ir12_err\u001b[0m \u001b[0;34m=\u001b[0m \u001b[0mnp\u001b[0m\u001b[0;34m.\u001b[0m\u001b[0marray\u001b[0m\u001b[0;34m(\u001b[0m\u001b[0;34m[\u001b[0m\u001b[0;34m]\u001b[0m\u001b[0;34m)\u001b[0m\u001b[0;34m,\u001b[0m \u001b[0mnp\u001b[0m\u001b[0;34m.\u001b[0m\u001b[0marray\u001b[0m\u001b[0;34m(\u001b[0m\u001b[0;34m[\u001b[0m\u001b[0;34m]\u001b[0m\u001b[0;34m)\u001b[0m\u001b[0;34m\u001b[0m\u001b[0;34m\u001b[0m\u001b[0m\n\u001b[1;32m     12\u001b[0m     \u001b[0;32mfor\u001b[0m \u001b[0mj\u001b[0m \u001b[0;32min\u001b[0m \u001b[0mrange\u001b[0m\u001b[0;34m(\u001b[0m\u001b[0mlen\u001b[0m\u001b[0;34m(\u001b[0m\u001b[0mz1_ir\u001b[0m\u001b[0;34m)\u001b[0m\u001b[0;34m)\u001b[0m\u001b[0;34m:\u001b[0m\u001b[0;34m\u001b[0m\u001b[0;34m\u001b[0m\u001b[0m\n\u001b[0;32m---> 13\u001b[0;31m         \u001b[0msfrd_ir\u001b[0m\u001b[0;34m,\u001b[0m \u001b[0msfrd_err_ir\u001b[0m \u001b[0;34m=\u001b[0m \u001b[0mirlf\u001b[0m\u001b[0;34m.\u001b[0m\u001b[0msfrd_w_err\u001b[0m\u001b[0;34m(\u001b[0m\u001b[0mlum\u001b[0m\u001b[0;34m=\u001b[0m\u001b[0mlums_ir1\u001b[0m\u001b[0;34m,\u001b[0m \u001b[0mlst9\u001b[0m\u001b[0;34m=\u001b[0m\u001b[0mlst_ir\u001b[0m\u001b[0;34m[\u001b[0m\u001b[0mi\u001b[0m\u001b[0;34m]\u001b[0m\u001b[0;34m,\u001b[0m \u001b[0mlst9err\u001b[0m\u001b[0;34m=\u001b[0m\u001b[0mlsterr_ir\u001b[0m\u001b[0;34m[\u001b[0m\u001b[0mi\u001b[0m\u001b[0;34m]\u001b[0m\u001b[0;34m,\u001b[0m \u001b[0mphi9\u001b[0m\u001b[0;34m=\u001b[0m\u001b[0mphi_ir\u001b[0m\u001b[0;34m[\u001b[0m\u001b[0mi\u001b[0m\u001b[0;34m]\u001b[0m\u001b[0;34m,\u001b[0m \u001b[0mphi9err\u001b[0m\u001b[0;34m=\u001b[0m\u001b[0mphierr_ir\u001b[0m\u001b[0;34m[\u001b[0m\u001b[0mi\u001b[0m\u001b[0;34m]\u001b[0m\u001b[0;34m,\u001b[0m \u001b[0msig9\u001b[0m\u001b[0;34m=\u001b[0m\u001b[0msig_ir\u001b[0m\u001b[0;34m[\u001b[0m\u001b[0mi\u001b[0m\u001b[0;34m]\u001b[0m\u001b[0;34m,\u001b[0m \u001b[0msig9err\u001b[0m\u001b[0;34m=\u001b[0m\u001b[0msigerr_ir\u001b[0m\u001b[0;34m[\u001b[0m\u001b[0mi\u001b[0m\u001b[0;34m]\u001b[0m\u001b[0;34m,\u001b[0m \u001b[0malp9\u001b[0m\u001b[0;34m=\u001b[0m\u001b[0malp_ir\u001b[0m\u001b[0;34m[\u001b[0m\u001b[0mi\u001b[0m\u001b[0;34m]\u001b[0m\u001b[0;34m,\u001b[0m \u001b[0malp9err\u001b[0m\u001b[0;34m=\u001b[0m\u001b[0malperr_ir\u001b[0m\u001b[0;34m[\u001b[0m\u001b[0mi\u001b[0m\u001b[0;34m]\u001b[0m\u001b[0;34m,\u001b[0m \u001b[0mkappa\u001b[0m\u001b[0;34m=\u001b[0m\u001b[0mkap_ir\u001b[0m\u001b[0;34m,\u001b[0m \u001b[0mlimit\u001b[0m\u001b[0;34m=\u001b[0m\u001b[0;36m0.03\u001b[0m\u001b[0;34m)\u001b[0m\u001b[0;34m\u001b[0m\u001b[0;34m\u001b[0m\u001b[0m\n\u001b[0m\u001b[1;32m     14\u001b[0m         \u001b[0msfrd_ir12\u001b[0m \u001b[0;34m=\u001b[0m \u001b[0mnp\u001b[0m\u001b[0;34m.\u001b[0m\u001b[0mhstack\u001b[0m\u001b[0;34m(\u001b[0m\u001b[0;34m(\u001b[0m\u001b[0msfrd_ir12\u001b[0m\u001b[0;34m,\u001b[0m \u001b[0msfrd_ir\u001b[0m\u001b[0;34m)\u001b[0m\u001b[0;34m)\u001b[0m\u001b[0;34m\u001b[0m\u001b[0;34m\u001b[0m\u001b[0m\n\u001b[1;32m     15\u001b[0m         \u001b[0msfrd_ir12_err\u001b[0m \u001b[0;34m=\u001b[0m \u001b[0mnp\u001b[0m\u001b[0;34m.\u001b[0m\u001b[0mhstack\u001b[0m\u001b[0;34m(\u001b[0m\u001b[0;34m(\u001b[0m\u001b[0msfrd_ir12_err\u001b[0m\u001b[0;34m,\u001b[0m \u001b[0msfrd_err_ir\u001b[0m\u001b[0;34m)\u001b[0m\u001b[0;34m)\u001b[0m\u001b[0;34m\u001b[0m\u001b[0;34m\u001b[0m\u001b[0m\n",
      "\u001b[0;32m~/Documents/UNIGE/APL/APL2/csfrd/irlf.py\u001b[0m in \u001b[0;36msfrd_w_err\u001b[0;34m(lum, lst9, lst9err, phi9, phi9err, sig9, sig9err, alp9, alp9err, kappa, limit)\u001b[0m\n\u001b[1;32m    104\u001b[0m         \u001b[0merror\u001b[0m \u001b[0;32min\u001b[0m \u001b[0mstar\u001b[0m \u001b[0mformation\u001b[0m \u001b[0mrate\u001b[0m\u001b[0;34m\u001b[0m\u001b[0;34m\u001b[0m\u001b[0m\n\u001b[1;32m    105\u001b[0m     \"\"\"\n\u001b[0;32m--> 106\u001b[0;31m     \u001b[0mlum_den2\u001b[0m \u001b[0;34m=\u001b[0m \u001b[0mlum_den22\u001b[0m\u001b[0;34m(\u001b[0m\u001b[0mlum\u001b[0m\u001b[0;34m,\u001b[0m \u001b[0mlst9\u001b[0m\u001b[0;34m,\u001b[0m \u001b[0mlst9err\u001b[0m\u001b[0;34m,\u001b[0m \u001b[0mphi9\u001b[0m\u001b[0;34m,\u001b[0m \u001b[0mphi9err\u001b[0m\u001b[0;34m,\u001b[0m \u001b[0msig9\u001b[0m\u001b[0;34m,\u001b[0m \u001b[0msig9err\u001b[0m\u001b[0;34m,\u001b[0m \u001b[0malp9\u001b[0m\u001b[0;34m,\u001b[0m \u001b[0malp9err\u001b[0m\u001b[0;34m,\u001b[0m \u001b[0mlimit\u001b[0m\u001b[0;34m)\u001b[0m\u001b[0;34m\u001b[0m\u001b[0;34m\u001b[0m\u001b[0m\n\u001b[0m\u001b[1;32m    107\u001b[0m     \u001b[0mkpp1\u001b[0m \u001b[0;34m=\u001b[0m \u001b[0mkappa\u001b[0m\u001b[0;34m\u001b[0m\u001b[0;34m\u001b[0m\u001b[0m\n\u001b[1;32m    108\u001b[0m     \u001b[0msfr2\u001b[0m \u001b[0;34m=\u001b[0m \u001b[0mkpp1\u001b[0m\u001b[0;34m*\u001b[0m\u001b[0mlum_den2\u001b[0m\u001b[0;34m\u001b[0m\u001b[0;34m\u001b[0m\u001b[0m\n",
      "\u001b[0;32m~/Documents/UNIGE/APL/APL2/csfrd/irlf.py\u001b[0m in \u001b[0;36mlum_den22\u001b[0;34m(lum, lst9, lst9err, phi9, phi9err, sig9, sig9err, alp9, alp9err, limit)\u001b[0m\n\u001b[1;32m     68\u001b[0m         \u001b[0;32melse\u001b[0m\u001b[0;34m:\u001b[0m\u001b[0;34m\u001b[0m\u001b[0;34m\u001b[0m\u001b[0m\n\u001b[1;32m     69\u001b[0m             \u001b[0;31m#nor_lum = np.logspace(np.log10(limit*lst9), np.max(np.log10(lum)), 100000)\u001b[0m\u001b[0;34m\u001b[0m\u001b[0;34m\u001b[0m\u001b[0;34m\u001b[0m\u001b[0m\n\u001b[0;32m---> 70\u001b[0;31m             \u001b[0mnor_sc1\u001b[0m \u001b[0;34m=\u001b[0m \u001b[0msandage\u001b[0m\u001b[0;34m(\u001b[0m\u001b[0mlums9\u001b[0m\u001b[0;34m=\u001b[0m\u001b[0mnor_lum\u001b[0m\u001b[0;34m,\u001b[0m \u001b[0malp9\u001b[0m\u001b[0;34m=\u001b[0m\u001b[0malp2\u001b[0m\u001b[0;34m[\u001b[0m\u001b[0mi\u001b[0m\u001b[0;34m]\u001b[0m\u001b[0;34m,\u001b[0m \u001b[0mphi9\u001b[0m\u001b[0;34m=\u001b[0m\u001b[0mphi2\u001b[0m\u001b[0;34m[\u001b[0m\u001b[0mi\u001b[0m\u001b[0;34m]\u001b[0m\u001b[0;34m,\u001b[0m \u001b[0msig9\u001b[0m\u001b[0;34m=\u001b[0m\u001b[0msig2\u001b[0m\u001b[0;34m[\u001b[0m\u001b[0mi\u001b[0m\u001b[0;34m]\u001b[0m\u001b[0;34m,\u001b[0m \u001b[0mlst9\u001b[0m\u001b[0;34m=\u001b[0m\u001b[0mlst2\u001b[0m\u001b[0;34m[\u001b[0m\u001b[0mi\u001b[0m\u001b[0;34m]\u001b[0m\u001b[0;34m)\u001b[0m\u001b[0;34m\u001b[0m\u001b[0;34m\u001b[0m\u001b[0m\n\u001b[0m\u001b[1;32m     71\u001b[0m             \u001b[0mnor_sc\u001b[0m \u001b[0;34m=\u001b[0m \u001b[0mnor_lum\u001b[0m\u001b[0;34m*\u001b[0m\u001b[0mnor_sc1\u001b[0m\u001b[0;31m#/phi2[j]\u001b[0m\u001b[0;34m\u001b[0m\u001b[0;34m\u001b[0m\u001b[0m\n\u001b[1;32m     72\u001b[0m             \u001b[0mrho_nor\u001b[0m \u001b[0;34m=\u001b[0m \u001b[0minte\u001b[0m\u001b[0;34m.\u001b[0m\u001b[0msimps\u001b[0m\u001b[0;34m(\u001b[0m\u001b[0my\u001b[0m\u001b[0;34m=\u001b[0m\u001b[0mnor_sc\u001b[0m\u001b[0;34m,\u001b[0m \u001b[0mx\u001b[0m\u001b[0;34m=\u001b[0m\u001b[0mnp\u001b[0m\u001b[0;34m.\u001b[0m\u001b[0mlog10\u001b[0m\u001b[0;34m(\u001b[0m\u001b[0mnor_lum\u001b[0m\u001b[0;34m)\u001b[0m\u001b[0;34m)\u001b[0m\u001b[0;34m\u001b[0m\u001b[0;34m\u001b[0m\u001b[0m\n",
      "\u001b[0;32m~/Documents/UNIGE/APL/APL2/csfrd/irlf.py\u001b[0m in \u001b[0;36msandage\u001b[0;34m(lums9, alp9, phi9, sig9, lst9)\u001b[0m\n\u001b[1;32m     28\u001b[0m     \u001b[0mef\u001b[0m \u001b[0;34m=\u001b[0m \u001b[0;34m-\u001b[0m\u001b[0mcd\u001b[0m\u001b[0;34m/\u001b[0m\u001b[0;34m(\u001b[0m\u001b[0;36m2\u001b[0m\u001b[0;34m*\u001b[0m\u001b[0msig9\u001b[0m\u001b[0;34m*\u001b[0m\u001b[0msig9\u001b[0m\u001b[0;34m)\u001b[0m\u001b[0;34m\u001b[0m\u001b[0;34m\u001b[0m\u001b[0m\n\u001b[1;32m     29\u001b[0m     \u001b[0mgh\u001b[0m \u001b[0;34m=\u001b[0m \u001b[0mnp\u001b[0m\u001b[0;34m.\u001b[0m\u001b[0mexp\u001b[0m\u001b[0;34m(\u001b[0m\u001b[0mef\u001b[0m\u001b[0;34m)\u001b[0m\u001b[0;34m\u001b[0m\u001b[0;34m\u001b[0m\u001b[0m\n\u001b[0;32m---> 30\u001b[0;31m     \u001b[0mxy\u001b[0m \u001b[0;34m=\u001b[0m \u001b[0;34m(\u001b[0m\u001b[0mlums9\u001b[0m\u001b[0;34m/\u001b[0m\u001b[0mlst9\u001b[0m\u001b[0;34m)\u001b[0m\u001b[0;34m**\u001b[0m\u001b[0;34m(\u001b[0m\u001b[0;36m1\u001b[0m\u001b[0;34m-\u001b[0m\u001b[0malp9\u001b[0m\u001b[0;34m)\u001b[0m\u001b[0;34m\u001b[0m\u001b[0;34m\u001b[0m\u001b[0m\n\u001b[0m\u001b[1;32m     31\u001b[0m     \u001b[0;32mreturn\u001b[0m \u001b[0mxy\u001b[0m\u001b[0;34m*\u001b[0m\u001b[0mphi9\u001b[0m\u001b[0;34m*\u001b[0m\u001b[0mgh\u001b[0m\u001b[0;34m\u001b[0m\u001b[0;34m\u001b[0m\u001b[0m\n\u001b[1;32m     32\u001b[0m \u001b[0;34m\u001b[0m\u001b[0m\n",
      "\u001b[0;31mKeyboardInterrupt\u001b[0m: "
     ]
    }
   ],
   "source": [
    "plt.figure(figsize=(16,9))\n",
    "\n",
    "f33 = open(p2 + 'sfrd_ir_new.dat','w')\n",
    "f33.write('#Name_of_the_paper\\tZ_down\\tZ_up\\tSFRD\\tSFRD_err\\n')\n",
    "\n",
    "for i in range(len(list1)):\n",
    "    z1_ir, z2_ir, alp_ir, alperr_ir, lst_ir, lsterr_ir, sig_ir, sigerr_ir, phi_ir, phierr_ir = np.loadtxt(p1 + list1[i], usecols=(0,1,2,3,4,5,6,7,8,9), unpack=True)\n",
    "    ppr_n1 = np.loadtxt(p1 + list1[i], usecols=10, dtype=str, unpack=True)\n",
    "    if type(alp_ir) == np.float64:\n",
    "        z1_ir, z2_ir, alp_ir, alperr_ir, lst_ir, lsterr_ir, sig_ir, sigerr_ir, phi_ir, phierr_ir, ppr_n1 = np.array([z1_ir]), np.array([z2_ir]), np.array([alp_ir]), np.array([alperr_ir]), np.array([lst_ir]), np.array([lsterr_ir]), np.array([sig_ir]), np.array([sigerr_ir]), np.array([phi_ir]), np.array([phierr_ir]), np.array([ppr_n1])\n",
    "    sfrd_ir12, sfrd_ir12_err = np.array([]), np.array([])\n",
    "    for j in range(len(z1_ir)):\n",
    "        sfrd_ir, sfrd_err_ir = irlf.sfrd_w_err(lum=lums_ir1, lst9=lst_ir[i], lst9err=lsterr_ir[i], phi9=phi_ir[i], phi9err=phierr_ir[i], sig9=sig_ir[i], sig9err=sigerr_ir[i], alp9=alp_ir[i], alp9err=alperr_ir[i], kappa=kap_ir, limit=0.03)\n",
    "        sfrd_ir12 = np.hstack((sfrd_ir12, sfrd_ir))\n",
    "        sfrd_ir12_err = np.hstack((sfrd_ir12_err, sfrd_err_ir))\n",
    "        f33.write(ppr_n1[0] + '\\t' + str(z1_ir[j]) + '\\t' + str(z2_ir[j]) + '\\t' + str(sfrd_ir) + '\\t' + str(sfrd_err_ir) + '\\n')\n",
    "    zcen1 = (z1_ir + z2_ir)/2\n",
    "    log_sfrd_ir12, log_sfrd_ir12_err = utl.log_err(sfrd_ir12, sfrd_ir12_err)\n",
    "    plt.errorbar(zcen1, log_sfrd_ir12, log_sfrd_ir12_err, label=ppr_n1[i])\n",
    "\n",
    "f33.close()\n",
    "plt.xlabel('Redshift')\n",
    "plt.ylabel('SFRD (in M_sun year^-1 Mpc^-3)')\n",
    "plt.grid()\n",
    "plt.legend(loc='best')"
   ]
  },
  {
   "cell_type": "code",
   "execution_count": null,
   "metadata": {},
   "outputs": [],
   "source": []
  }
 ]
}