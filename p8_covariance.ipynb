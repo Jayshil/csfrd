{
 "metadata": {
  "language_info": {
   "codemirror_mode": {
    "name": "ipython",
    "version": 3
   },
   "file_extension": ".py",
   "mimetype": "text/x-python",
   "name": "python",
   "nbconvert_exporter": "python",
   "pygments_lexer": "ipython3",
   "version": "3.7.9"
  },
  "orig_nbformat": 2,
  "kernelspec": {
   "name": "python379jvsc74a57bd077308f10e778eec9a13a21206849a589a8c13410aaae2405e5051cd249c67e86",
   "display_name": "Python 3.7.9 64-bit ('base': conda)"
  }
 },
 "nbformat": 4,
 "nbformat_minor": 2,
 "cells": [
  {
   "source": [
    "# Scaling covarinace matrix\n",
    "\n",
    "In this notebook, we demonstrate how we want to scale the covarinace matrix at various redshifts. The reference covariance matrices for redshifts $2$ to $8$ is taken from [Bouwens+21](https://arxiv.org/abs/2102.07775). The idea behind this very simple, and in doing so we assume that, at certain redshift the correlation between parameters is roughly constant --- that means that the correlation matrix, given by,\n",
    "\n",
    "$$corr(X_i, X_j) = \\frac{C_{ij}}{\\sigma_i \\sigma_j}$$\n",
    "\n",
    "would be constant for a given redshift. Here $X_i$ and $X_j$ represents the two random variables, which could be two of the Schechter function parameters. $C_{ij}$ gives the covariance of them, and $\\sigma$s are their errors.\n",
    "\n",
    "What we first do is to find a correlation matrix from the covarinace matrix at a given redshift. Then, we will use the components of this correlation matrix (i.e., $corr(X_i, X_j)$) to compute the components of the covarinace matrix, that is, $C_{ij}$."
   ],
   "cell_type": "markdown",
   "metadata": {}
  },
  {
   "cell_type": "code",
   "execution_count": 1,
   "metadata": {},
   "outputs": [],
   "source": [
    "import numpy as np\n",
    "import matplotlib.pyplot as plt\n",
    "import corner"
   ]
  },
  {
   "source": [
    "## Sample calculation at redshift 4\n",
    "\n",
    "Given covariance matrix at redshift $z=4$ from Bouwens et al. (2021) is,\n",
    "\n",
    "\\begin{bmatrix}\n",
    "0.00468796 & 0.00329079 & 0.00243851 \\\\\n",
    "0.00329079 & 0.00297998 & 0.00122257 \\\\\n",
    "0.00243851 & 0.00122257 & 0.00165734\n",
    "\\end{bmatrix}\n",
    "\n",
    "Here, the random variables are $M_*$, $\\log{\\phi_*}$ and $\\alpha$, respectively. What we shall do first is to calculate the correlation matrix from the given data."
   ],
   "cell_type": "markdown",
   "metadata": {}
  },
  {
   "cell_type": "code",
   "execution_count": 2,
   "metadata": {},
   "outputs": [
    {
     "output_type": "stream",
     "name": "stdout",
     "text": [
      "Correlation matrix is:\n[[1.         0.88044361 0.87483628]\n [0.88044361 1.         0.55012484]\n [0.87483628 0.55012484 1.        ]]\n"
     ]
    }
   ],
   "source": [
    "cov_bou4 = np.array([[0.00468796, 0.00329079, 0.00243851],\\\n",
    "     [0.00329079, 0.00297998, 0.00122257],\\\n",
    "     [0.00243851, 0.00122257, 0.00165734]])\n",
    "\n",
    "corr_bou4 = np.zeros((3,3))\n",
    "\n",
    "for i in range(3):\n",
    "    for j in range(3):\n",
    "        corr_bou4[i][j] = cov_bou4[i][j] / np.sqrt(cov_bou4[i][i]*cov_bou4[j][j])\n",
    "\n",
    "print('Correlation matrix is:')\n",
    "print(corr_bou4)"
   ]
  },
  {
   "cell_type": "code",
   "execution_count": null,
   "metadata": {},
   "outputs": [],
   "source": []
  }
 ]
}