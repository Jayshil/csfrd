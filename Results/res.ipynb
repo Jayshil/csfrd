{
 "metadata": {
  "language_info": {
   "codemirror_mode": {
    "name": "ipython",
    "version": 3
   },
   "file_extension": ".py",
   "mimetype": "text/x-python",
   "name": "python",
   "nbconvert_exporter": "python",
   "pygments_lexer": "ipython3",
   "version": "3.7.9"
  },
  "orig_nbformat": 2,
  "kernelspec": {
   "name": "python379jvsc74a57bd077308f10e778eec9a13a21206849a589a8c13410aaae2405e5051cd249c67e86",
   "display_name": "Python 3.7.9 64-bit ('base': conda)"
  }
 },
 "nbformat": 4,
 "nbformat_minor": 2,
 "cells": [
  {
   "source": [
    "# Computing SFRD\n",
    "\n",
    "In the present work, we want to update the measurements of star formation rate density from the recent observations. The idea is to use luminosity function (the Schechter function) with the updated parameters from the literature to compute the luminosity density and then using this updated luminosity function to calculate the star formation rate density. In this notebook we try to summarize our work."
   ],
   "cell_type": "markdown",
   "metadata": {}
  },
  {
   "cell_type": "code",
   "execution_count": 1,
   "metadata": {},
   "outputs": [],
   "source": [
    "import numpy as np\n",
    "import matplotlib.pyplot as plt\n",
    "import os"
   ]
  },
  {
   "source": [
    "## The Schechter function\n",
    "\n",
    "The Schechter function (Schechter 1975) is an analytic expression for the luminosity of galaxies which can be written as follows:\n",
    "\n",
    "$$\\phi(L) = \\left( \\frac{\\phi^*}{L^*} \\right) \\left( \\frac{L}{L^*} \\right)^\\alpha \\exp{\\left( -\\frac{L}{L^*} \\right)}$$\n",
    "\n",
    "This function essentially describes the number of galaxies in the given range of luminosity $L$ to $L+dL$. It is evident from the above equation that it is a three parameter function with parameters $\\phi^*$, $L^*$ and $\\alpha$. Here, $\\alpha$ represents the power-law parameter for the faint-end and $L^*$ is the characteristic luminosity, while $\\phi*$ serves as the normalisation constant."
   ],
   "cell_type": "markdown",
   "metadata": {}
  },
  {
   "cell_type": "code",
   "execution_count": null,
   "metadata": {},
   "outputs": [],
   "source": []
  }
 ]
}