{
 "metadata": {
  "language_info": {
   "codemirror_mode": {
    "name": "ipython",
    "version": 3
   },
   "file_extension": ".py",
   "mimetype": "text/x-python",
   "name": "python",
   "nbconvert_exporter": "python",
   "pygments_lexer": "ipython3",
   "version": 3
  },
  "orig_nbformat": 2
 },
 "nbformat": 4,
 "nbformat_minor": 2,
 "cells": [
  {
   "source": [
    "# Different ways to find luminosity density\n",
    "\n",
    "As we explained elsewhere, we calculated the star formation rate density from the luminosity function. To do so, we first need to find the luminosity density by integrating the luminosity function as follows:\n",
    "\n",
    "$$\\rho(>L_{min}) = \\int_{L_{min}}^\\infty L \\phi(L) dL$$\n",
    "\n",
    "Here, the lower limit of the integration is poorly defined till now. Until now, we have been using $L_{min} = 0.03L_*$ following Madau & Dickinson (2014). However, this limit is, since $L_*$ varies over redshift, is not constant over cosmic history. Plus, it is not related to some physical property of a galaxy. We want to change this by relating this lower limit of integration to the star formation rate of the galaxy. In doing so, we shall use the same conversion factor from Madau & Dickinson (2014),\n",
    "\n",
    "$$\\psi = \\kappa_{FUV} \\times \\rho$$\n",
    "\n",
    "Here, the symbols have their usual meanings (Note that we are corrently demonstrating for FUV only). We find that the limit of $0.03L_*$ corresponds to $\\sim 0.35 M_\\odot \\ year^{-1}$, using this conversion factor. To find the star formation rate density more accurately, we want to decrease the lower limit of integration. In the present work, we illustrate the case for the star formation rate of $0.35 M_\\odot \\ year^{-1}$, $0.1 M_\\odot \\ year^{-1}$, $0.01 M_\\odot \\ year^{-1}$, $0.001 M_\\odot \\ year^{-1}$, $0.0001 M_\\odot \\ year^{-1}$ and $0.00001 M_\\odot \\ year^{-1}$."
   ],
   "cell_type": "markdown",
   "metadata": {}
  },
  {
   "cell_type": "code",
   "execution_count": null,
   "metadata": {},
   "outputs": [],
   "source": []
  }
 ]
}