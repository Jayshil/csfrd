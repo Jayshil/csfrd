{
 "metadata": {
  "language_info": {
   "codemirror_mode": {
    "name": "ipython",
    "version": 3
   },
   "file_extension": ".py",
   "mimetype": "text/x-python",
   "name": "python",
   "nbconvert_exporter": "python",
   "pygments_lexer": "ipython3",
   "version": 3
  },
  "orig_nbformat": 2
 },
 "nbformat": 4,
 "nbformat_minor": 2,
 "cells": [
  {
   "source": [
    "# SFRD from IR based data\n",
    "\n",
    "Until now, we have been using UV observations to determine the luminosity functions and SFRDs from it. Now, let's turn our attention to the IR data. We currently have three references for such observations. We, for now, focus on these data. We try to propagate the errors correctly. Below, we show the results of this computation which were done using the code presented [here](https://github.com/Jayshil/csfrd/blob/main/c2_irlf_grp.py) and [here](https://github.com/Jayshil/csfrd/blob/main/p9_IR_SFRDs.ipynb). Here we do not assume any correlation among the luminosity function parameters."
   ],
   "cell_type": "markdown",
   "metadata": {}
  },
  {
   "cell_type": "code",
   "execution_count": null,
   "metadata": {},
   "outputs": [],
   "source": [
    "import numpy as np\n",
    "import matplotlib.pyplot as plt\n",
    "import utils as utl\n",
    "import astropy.constants as con\n",
    "import astropy.units as u\n",
    "import os"
   ]
  },
  {
   "cell_type": "code",
   "execution_count": null,
   "metadata": {},
   "outputs": [],
   "source": [
    "p2 = os.getcwd() + '/Results/'\n",
    "ppr_ir = np.array(['Takeuchi_et_al_2003', 'Gruppioni_et_al_2013', 'Gruppioni_et_al_2020'])\n",
    "\n",
    "# Loading papers\n",
    "ppr_ir1 = np.loadtxt(p2 + 'sfrd_ir_new.dat', usecols=0, unpack=True, dtype=str)\n",
    "zd_ir, zu_ir, sfrd_ir, sfrd_ir_err = np.loadtxt(p2 + 'sfrd_ir_new.dat', usecols=(1,2,3,4), unpack=True)\n",
    "zcen_ir = (zd_ir + zu_ir)/2\n",
    "zup, zdo = np.abs(zu_ir - zcen_ir), np.abs(zcen_ir - zd_ir)\n",
    "log_sfrd_ir, log_sfrd_ir_err = utl.log_err(sfrd_ir, sfrd_ir_err)\n",
    "\n",
    "plt.figure(figsize=(16, 9))\n",
    "# Plotting them\n",
    "for i in range(len(ppr_ir)):\n",
    "    zc_ir, zp, zn, lg_sf, lg_sfe = np.array([]), np.array([]), np.array([]), np.array([]), np.array([])\n",
    "    for j in range(len(ppr_ir1)):\n",
    "        if ppr_ir1[j] == ppr_ir[i]:\n",
    "            zc_ir = np.hstack((zc_ir, zcen_ir[j]))\n",
    "            lg_sf = np.hstack((lg_sf, log_sfrd_ir[j]))\n",
    "            lg_sfe = np.hstack((lg_sfe, log_sfrd_ir_err[j]))\n",
    "            zp = np.hstack((zp, zup[j]))\n",
    "            zn = np.hstack((zn, zdo[j]))\n",
    "    plt.errorbar(zc_ir, lg_sf, xerr=[zn, zp], yerr=lg_sfe, label=ppr_ir[i].replace('_',' ') + ' UV LF', fmt='o')\n",
    "\n",
    "#plt.plot(znew, psi2, label='Best fitted function')\n",
    "plt.xlabel('Redshift')\n",
    "plt.ylabel(r'$\\log{\\psi}$ ($M_\\odot year^{-1} Mpc^{-3}$)')\n",
    "plt.grid()\n",
    "plt.legend(loc='best')"
   ]
  }
 ]
}