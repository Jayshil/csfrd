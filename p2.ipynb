{
 "metadata": {
  "language_info": {
   "codemirror_mode": {
    "name": "ipython",
    "version": 3
   },
   "file_extension": ".py",
   "mimetype": "text/x-python",
   "name": "python",
   "nbconvert_exporter": "python",
   "pygments_lexer": "ipython3",
   "version": "3.7.9-final"
  },
  "orig_nbformat": 2,
  "kernelspec": {
   "name": "python3",
   "display_name": "Python 3.7.9 64-bit ('base': conda)",
   "metadata": {
    "interpreter": {
     "hash": "77308f10e778eec9a13a21206849a589a8c13410aaae2405e5051cd249c67e86"
    }
   }
  }
 },
 "nbformat": 4,
 "nbformat_minor": 2,
 "cells": [
  {
   "source": [
    "# Calculating Star Formation Rate\n",
    "\n",
    "In another notebook, we calculated the Schechter function using various parameters from various literature values. We also computed the luminosity density by integrating the Schechter function. We can use a conversion factor to convert this luminosity density into the star formation rate density, such a conversion factor is usually denoted by $\\kappa$. There may be different values of $\\kappa$ depending upon the wavelength band of the spectrum used (i.e., IR or UV). In the present notebook, we shall use the values of this conversion factor from Madau & Dickinson (2014). Their values are,\n",
    "\n",
    "$$\\kappa_{FUV} = 1.15 \\times 10^{-28}$$ and $$\\kappa_{IR} = 4.5 \\times 10^{-44}$$\n",
    "\n",
    "We first aim to use values for the Schechter function from Bouwens et al. (2012) to compute the luminosity density at various redshifts. Later, we use $\\kappa_{FUV}$ (since Bouwens et al. 2012 used UV range) to measure the Star formation rate density. Finally, we shall plot the results.\n",
    "\n",
    "After testing the code for values from Bouwens et al. (2012), we repeat the procedure for various other works for different spectral range and different redshifts with different Schechter parameters.\n",
    "\n",
    "Let's start with the Bouwens et al. (2012) parameters."
   ],
   "cell_type": "markdown",
   "metadata": {}
  },
  {
   "cell_type": "code",
   "execution_count": 1,
   "metadata": {},
   "outputs": [],
   "source": [
    "import numpy as np\n",
    "import matplotlib.pyplot as plt\n",
    "import utils as utl"
   ]
  },
  {
   "cell_type": "code",
   "execution_count": 2,
   "metadata": {},
   "outputs": [],
   "source": [
    "# Redshift\n",
    "z_bou = np.array([4,5,6,7,8])\n",
    "\n",
    "# Characteristic absolute magnitude\n",
    "mst_bou = np.array([-20.98, -20.60, -20.37, -20.14, -20.10])\n",
    "msterr_bou = np.array([0.10, 0.23, 0.30, 0.26, 0.52])\n",
    "\n",
    "# Characteristic luminosity\n",
    "lst_bou = utl.m_to_l(mst_bou)\n",
    "lsterr_bou = utl.m_to_l(msterr_bou)\n",
    "\n",
    "# Normalisation constant\n",
    "phi_bou = np.array([1.3, 1.4, 1.4, 0.86, 0.59])*0.001\n",
    "phierr_bou = np.array([0.2, 0.6, 0.85, 0.545, 0.69])*0.001\n",
    "\n",
    "# Alpha\n",
    "alp_bou = np.array([-1.73, -1.79, -1.73, -2.01, -1.91])\n",
    "alperr_bou = np.array([0.005, 0.12, 0.20, 0.21, 0.32])\n",
    "\n",
    "# Kappas\n",
    "kap_uv = 1.15*10**(-28)\n",
    "kap_ir = 4.5*10**(-44)\n",
    "\n",
    "# Range of Luminosities (or absolute magnitudes) used\n",
    "mags_bou = np.linspace(-24, -13, 1000)\n",
    "lums_bou = utl.m_to_l(mags_bou)"
   ]
  },
  {
   "source": [
    "## Error propogation\n",
    "\n",
    "It is important to propogate uncertainties in the $M^*$, $\\phi^*$ and $\\alpha$ properly in final computed star formation rate density. We used Monte-Carlo methods to achieve this goal. We generate a random normal distribution of each parameters around its mean value and standard deviation equal to the uncertainty in the parameter (to reduce the computing time, we are currently using each array of size 50). Later we used this random normal distributions in $M^*$, $\\phi^*$ and $\\alpha^*$ to calculate the Schechter function (for each combination of values for these parameters from the distribution). Then we integrate the Schechter function accordingly (again, for each combination of values of parameters). Doing so, we would have an array of integration values (each value corresponds to the different Schechter function). We then measure the mean and standard deviation of this array to find the uncertainty in the luminosity density --- once, we got the errors in luminosity density, it is fairly easy to propogate this errors in the calculation of the star formation rate density since the conversion factor ($\\kappa$) does not have any uncertainty."
   ],
   "cell_type": "markdown",
   "metadata": {}
  },
  {
   "cell_type": "code",
   "execution_count": null,
   "metadata": {},
   "outputs": [],
   "source": [
    "\n",
    "\n",
    "\n",
    "\n"
   ]
  }
 ]
}